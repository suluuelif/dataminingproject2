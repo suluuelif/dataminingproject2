{
 "cells": [
  {
   "cell_type": "code",
   "execution_count": 15,
   "id": "ce238064-640b-4776-b87d-db5223a2aecf",
   "metadata": {},
   "outputs": [],
   "source": [
    "import pandas as pd\n",
    "import matplotlib.pyplot as plt\n",
    "import numpy as np"
   ]
  },
  {
   "cell_type": "code",
   "execution_count": 16,
   "id": "26687ed6-1cce-4204-afa5-f4f6643d4658",
   "metadata": {
    "scrolled": true
   },
   "outputs": [
    {
     "data": {
      "text/plain": [
       "<bound method NDFrame.head of      product_id                                       product_name  brand_id  \\\n",
       "0       P473671                            Fragrance Discovery Set      6342   \n",
       "1       P473668                            La Habana Eau de Parfum      6342   \n",
       "2       P473662                          Rainbow Bar Eau de Parfum      6342   \n",
       "3       P473660                               Kasbah Eau de Parfum      6342   \n",
       "4       P473658                          Purple Haze Eau de Parfum      6342   \n",
       "...         ...                                                ...       ...   \n",
       "8489    P467659                   Couture Clutch Eyeshadow Palette      1070   \n",
       "8490    P500874                              L'Homme Eau de Parfum      1070   \n",
       "8491    P504428                   Mon Paris Eau de Parfum Gift Set      1070   \n",
       "8492    P504448                           Y Eau de Parfum Gift Set      1070   \n",
       "8493    P505461  Candy Glaze Lip Gloss Stick Duo with Hyaluroni...      1070   \n",
       "\n",
       "              brand_name  loves_count  rating  reviews             size  \\\n",
       "0                  19-69         6320  3.6364     11.0              NaN   \n",
       "1                  19-69         3827  4.1538     13.0   3.4 oz/ 100 mL   \n",
       "2                  19-69         3253  4.2500     16.0   3.4 oz/ 100 mL   \n",
       "3                  19-69         3018  4.4762     21.0   3.4 oz/ 100 mL   \n",
       "4                  19-69         2691  3.2308     13.0   3.4 oz/ 100 mL   \n",
       "...                  ...          ...     ...      ...              ...   \n",
       "8489  Yves Saint Laurent         2790  4.4286      7.0              NaN   \n",
       "8490  Yves Saint Laurent         2319  4.6367    556.0     2 oz / 60 mL   \n",
       "8491  Yves Saint Laurent         1475  5.0000      2.0              NaN   \n",
       "8492  Yves Saint Laurent          840     NaN      NaN              NaN   \n",
       "8493  Yves Saint Laurent          193     NaN      NaN  .11 oz / 3.2 mL   \n",
       "\n",
       "                          variation_type                   variation_value  \\\n",
       "0                                    NaN                               NaN   \n",
       "1     Size + Concentration + Formulation                    3.4 oz/ 100 mL   \n",
       "2     Size + Concentration + Formulation                    3.4 oz/ 100 mL   \n",
       "3     Size + Concentration + Formulation                    3.4 oz/ 100 mL   \n",
       "4     Size + Concentration + Formulation                    3.4 oz/ 100 mL   \n",
       "...                                  ...                               ...   \n",
       "8489                                 NaN                               NaN   \n",
       "8490  Size + Concentration + Formulation  2 oz / 60 mL eau de parfum spray   \n",
       "8491                                 NaN                               NaN   \n",
       "8492                                 NaN                               NaN   \n",
       "8493                               Color                               NaN   \n",
       "\n",
       "      ... online_only out_of_stock  sephora_exclusive  \\\n",
       "0     ...           1            0                  0   \n",
       "1     ...           1            0                  0   \n",
       "2     ...           1            0                  0   \n",
       "3     ...           1            0                  0   \n",
       "4     ...           1            0                  0   \n",
       "...   ...         ...          ...                ...   \n",
       "8489  ...           0            0                  0   \n",
       "8490  ...           0            0                  0   \n",
       "8491  ...           1            1                  0   \n",
       "8492  ...           1            0                  0   \n",
       "8493  ...           1            0                  1   \n",
       "\n",
       "                                             highlights  primary_category  \\\n",
       "0     ['Unisex/ Genderless Scent', 'Warm &Spicy Scen...         Fragrance   \n",
       "1     ['Unisex/ Genderless Scent', 'Layerable Scent'...         Fragrance   \n",
       "2     ['Unisex/ Genderless Scent', 'Layerable Scent'...         Fragrance   \n",
       "3     ['Unisex/ Genderless Scent', 'Layerable Scent'...         Fragrance   \n",
       "4     ['Unisex/ Genderless Scent', 'Layerable Scent'...         Fragrance   \n",
       "...                                                 ...               ...   \n",
       "8489                                                NaN            Makeup   \n",
       "8490        ['Layerable Scent', 'Woody & Earthy Scent']         Fragrance   \n",
       "8491                                                NaN         Fragrance   \n",
       "8492                                                NaN         Fragrance   \n",
       "8493  ['Hyaluronic Acid', 'High Shine Finish', 'Plum...            Makeup   \n",
       "\n",
       "      secondary_category  tertiary_category  child_count  child_max_price  \\\n",
       "0      Value & Gift Sets  Perfume Gift Sets            0              NaN   \n",
       "1                  Women            Perfume            2             85.0   \n",
       "2                  Women            Perfume            2             75.0   \n",
       "3                  Women            Perfume            2             75.0   \n",
       "4                  Women            Perfume            2             75.0   \n",
       "...                  ...                ...          ...              ...   \n",
       "8489                 Eye       Eye Palettes            0              NaN   \n",
       "8490                 Men            Cologne            1            129.0   \n",
       "8491   Value & Gift Sets  Perfume Gift Sets            0              NaN   \n",
       "8492   Value & Gift Sets  Cologne Gift Sets            0              NaN   \n",
       "8493                 Lip          Lip Gloss            0              NaN   \n",
       "\n",
       "      child_min_price  \n",
       "0                 NaN  \n",
       "1                30.0  \n",
       "2                30.0  \n",
       "3                30.0  \n",
       "4                30.0  \n",
       "...               ...  \n",
       "8489              NaN  \n",
       "8490            129.0  \n",
       "8491              NaN  \n",
       "8492              NaN  \n",
       "8493              NaN  \n",
       "\n",
       "[8494 rows x 27 columns]>"
      ]
     },
     "execution_count": 16,
     "metadata": {},
     "output_type": "execute_result"
    }
   ],
   "source": [
    "product = pd.read_csv(\"product_info.csv\")\n",
    "product.head"
   ]
  },
  {
   "cell_type": "code",
   "execution_count": 17,
   "id": "23bcb523-897e-4e65-b701-7004b5367673",
   "metadata": {},
   "outputs": [
    {
     "data": {
      "text/plain": [
       "product_id             object\n",
       "product_name           object\n",
       "brand_id                int64\n",
       "brand_name             object\n",
       "loves_count             int64\n",
       "rating                float64\n",
       "reviews               float64\n",
       "size                   object\n",
       "variation_type         object\n",
       "variation_value        object\n",
       "variation_desc         object\n",
       "ingredients            object\n",
       "price_usd             float64\n",
       "value_price_usd       float64\n",
       "sale_price_usd        float64\n",
       "limited_edition         int64\n",
       "new                     int64\n",
       "online_only             int64\n",
       "out_of_stock            int64\n",
       "sephora_exclusive       int64\n",
       "highlights             object\n",
       "primary_category       object\n",
       "secondary_category     object\n",
       "tertiary_category      object\n",
       "child_count             int64\n",
       "child_max_price       float64\n",
       "child_min_price       float64\n",
       "dtype: object"
      ]
     },
     "execution_count": 17,
     "metadata": {},
     "output_type": "execute_result"
    }
   ],
   "source": [
    "#that's a mess let's see what we wanna use\n",
    "product.dtypes"
   ]
  },
  {
   "cell_type": "code",
   "execution_count": 18,
   "id": "9c8d79ec-c911-4f82-b642-b18bb0de0420",
   "metadata": {},
   "outputs": [
    {
     "name": "stderr",
     "output_type": "stream",
     "text": [
      "/var/folders/bw/c869440166q2zj4982vwkhrw0000gn/T/ipykernel_3091/2095629653.py:1: DtypeWarning: Columns (1) have mixed types. Specify dtype option on import or set low_memory=False.\n",
      "  review = pd.read_csv(\"reviews_0_250.csv\")\n"
     ]
    },
    {
     "data": {
      "text/plain": [
       "<bound method NDFrame.head of         Unnamed: 0    author_id  rating  is_recommended  helpfulness  \\\n",
       "0                0   1741593524       5             1.0          1.0   \n",
       "1                1  31423088263       1             0.0          NaN   \n",
       "2                2   5061282401       5             1.0          NaN   \n",
       "3                3   6083038851       5             1.0          NaN   \n",
       "4                4  47056667835       5             1.0          NaN   \n",
       "...            ...          ...     ...             ...          ...   \n",
       "602125      602125   7446977307       5             1.0          1.0   \n",
       "602126      602126   1991973234       5             1.0          1.0   \n",
       "602127      602127   1339171721       5             1.0          1.0   \n",
       "602128      602128   1917233409       5             1.0          1.0   \n",
       "602129      602129   1244540073       5             1.0          1.0   \n",
       "\n",
       "        total_feedback_count  total_neg_feedback_count  \\\n",
       "0                          2                         0   \n",
       "1                          0                         0   \n",
       "2                          0                         0   \n",
       "3                          0                         0   \n",
       "4                          0                         0   \n",
       "...                      ...                       ...   \n",
       "602125                    12                         0   \n",
       "602126                     4                         0   \n",
       "602127                    10                         0   \n",
       "602128                     5                         0   \n",
       "602129                     5                         0   \n",
       "\n",
       "        total_pos_feedback_count submission_time  \\\n",
       "0                              2      2023-02-01   \n",
       "1                              0      2023-03-21   \n",
       "2                              0      2023-03-21   \n",
       "3                              0      2023-03-20   \n",
       "4                              0      2023-03-20   \n",
       "...                          ...             ...   \n",
       "602125                        12      2020-12-17   \n",
       "602126                         4      2020-12-17   \n",
       "602127                        10      2020-12-17   \n",
       "602128                         5      2020-12-17   \n",
       "602129                         5      2020-12-17   \n",
       "\n",
       "                                              review_text  \\\n",
       "0       I use this with the Nudestix “Citrus Clean Bal...   \n",
       "1       I bought this lip mask after reading the revie...   \n",
       "2       My review title says it all! I get so excited ...   \n",
       "3       I’ve always loved this formula for a long time...   \n",
       "4       If you have dry cracked lips, this is a must h...   \n",
       "...                                                   ...   \n",
       "602125  I can’t say enough great things about this pro...   \n",
       "602126  I have been using this product for over 6 week...   \n",
       "602127  I love the Triple Algae Eye Renewal Balm! Once...   \n",
       "602128  This made the lines around my eyes so much bet...   \n",
       "602129  So rich & creamy, yet not greasy . . .  It rea...   \n",
       "\n",
       "                                        review_title    skin_tone eye_color  \\\n",
       "0                   Taught me how to double cleanse!          NaN     brown   \n",
       "1                                       Disappointed          NaN       NaN   \n",
       "2                               New Favorite Routine        light     brown   \n",
       "3                    Can't go wrong with any of them          NaN     brown   \n",
       "4                                    A must have !!!        light     hazel   \n",
       "...                                              ...          ...       ...   \n",
       "602125             HOLY GRAIL- lash extension safe!!         fair     green   \n",
       "602126                                 Game changer!    mediumTan     brown   \n",
       "602127  Triple Algae Eye Renewal Balm is a MUST HAVE        light     hazel   \n",
       "602128                                           NaN  lightMedium     hazel   \n",
       "602129        So rich & creamy, yet not greasy . . .        light      blue   \n",
       "\n",
       "          skin_type hair_color product_id  \\\n",
       "0               dry      black    P504322   \n",
       "1               NaN        NaN    P420652   \n",
       "2               dry     blonde    P420652   \n",
       "3       combination      black    P420652   \n",
       "4       combination        NaN    P420652   \n",
       "...             ...        ...        ...   \n",
       "602125          dry     blonde    P467602   \n",
       "602126  combination      black    P467602   \n",
       "602127          dry      brown    P467602   \n",
       "602128  combination      brown    P467602   \n",
       "602129          dry     blonde    P467602   \n",
       "\n",
       "                                             product_name brand_name  \\\n",
       "0                          Gentle Hydra-Gel Face Cleanser   NUDESTIX   \n",
       "1       Lip Sleeping Mask Intense Hydration with Vitam...    LANEIGE   \n",
       "2       Lip Sleeping Mask Intense Hydration with Vitam...    LANEIGE   \n",
       "3       Lip Sleeping Mask Intense Hydration with Vitam...    LANEIGE   \n",
       "4       Lip Sleeping Mask Intense Hydration with Vitam...    LANEIGE   \n",
       "...                                                   ...        ...   \n",
       "602125            Triple Algae Eye Renewal Balm Eye Cream   Algenist   \n",
       "602126            Triple Algae Eye Renewal Balm Eye Cream   Algenist   \n",
       "602127            Triple Algae Eye Renewal Balm Eye Cream   Algenist   \n",
       "602128            Triple Algae Eye Renewal Balm Eye Cream   Algenist   \n",
       "602129            Triple Algae Eye Renewal Balm Eye Cream   Algenist   \n",
       "\n",
       "        price_usd  \n",
       "0            19.0  \n",
       "1            24.0  \n",
       "2            24.0  \n",
       "3            24.0  \n",
       "4            24.0  \n",
       "...           ...  \n",
       "602125       68.0  \n",
       "602126       68.0  \n",
       "602127       68.0  \n",
       "602128       68.0  \n",
       "602129       68.0  \n",
       "\n",
       "[602130 rows x 19 columns]>"
      ]
     },
     "execution_count": 18,
     "metadata": {},
     "output_type": "execute_result"
    }
   ],
   "source": [
    "review = pd.read_csv(\"reviews_0_250.csv\")\n",
    "review.head"
   ]
  },
  {
   "cell_type": "code",
   "execution_count": 19,
   "id": "75ee020d-6378-435f-a99d-f64a12bc00a3",
   "metadata": {},
   "outputs": [
    {
     "data": {
      "text/plain": [
       "Unnamed: 0                    int64\n",
       "author_id                    object\n",
       "rating                        int64\n",
       "is_recommended              float64\n",
       "helpfulness                 float64\n",
       "total_feedback_count          int64\n",
       "total_neg_feedback_count      int64\n",
       "total_pos_feedback_count      int64\n",
       "submission_time              object\n",
       "review_text                  object\n",
       "review_title                 object\n",
       "skin_tone                    object\n",
       "eye_color                    object\n",
       "skin_type                    object\n",
       "hair_color                   object\n",
       "product_id                   object\n",
       "product_name                 object\n",
       "brand_name                   object\n",
       "price_usd                   float64\n",
       "dtype: object"
      ]
     },
     "execution_count": 19,
     "metadata": {},
     "output_type": "execute_result"
    }
   ],
   "source": [
    "review.dtypes"
   ]
  },
  {
   "cell_type": "code",
   "execution_count": 20,
   "id": "4666e0ca-32ce-40a7-92fa-5c72cff25218",
   "metadata": {
    "scrolled": true
   },
   "outputs": [
    {
     "ename": "NameError",
     "evalue": "name 'rating' is not defined",
     "output_type": "error",
     "traceback": [
      "\u001b[0;31m---------------------------------------------------------------------------\u001b[0m",
      "\u001b[0;31mNameError\u001b[0m                                 Traceback (most recent call last)",
      "Cell \u001b[0;32mIn[20], line 1\u001b[0m\n\u001b[0;32m----> 1\u001b[0m rating \u001b[38;5;241m=\u001b[39m rating[[\u001b[38;5;124m'\u001b[39m\u001b[38;5;124mproduct_name\u001b[39m\u001b[38;5;124m'\u001b[39m, \u001b[38;5;124m'\u001b[39m\u001b[38;5;124mrating\u001b[39m\u001b[38;5;124m'\u001b[39m, \u001b[38;5;124m'\u001b[39m\u001b[38;5;124mreview_text\u001b[39m\u001b[38;5;124m'\u001b[39m, \u001b[38;5;124m'\u001b[39m\u001b[38;5;124mis_recommended\u001b[39m\u001b[38;5;124m'\u001b[39m]]\n\u001b[1;32m      2\u001b[0m rating\u001b[38;5;241m.\u001b[39mhead()\n",
      "\u001b[0;31mNameError\u001b[0m: name 'rating' is not defined"
     ]
    }
   ],
   "source": [
    "rating = rating[['product_name', 'rating', 'review_text', 'is_recommended']]\n",
    "rating.head()"
   ]
  },
  {
   "cell_type": "code",
   "execution_count": null,
   "id": "98a4bd09-83da-4597-8b35-efc5747974fe",
   "metadata": {},
   "outputs": [],
   "source": [
    "rating.is_recommended.value_counts()"
   ]
  },
  {
   "cell_type": "code",
   "execution_count": null,
   "id": "4535acb8-d285-4be9-90bb-011da3763137",
   "metadata": {},
   "outputs": [],
   "source": [
    "print(\"Recommended\", round(rating.is_recommended.value_counts()[1]/len(rating) *100 ,2), \"%\")\n",
    "print(\"Not Recommended\", round(rating.is_recommended.value_counts()[0]/len(rating) *100 ,2), \"%\")"
   ]
  },
  {
   "cell_type": "code",
   "execution_count": null,
   "id": "47b54622-e0ec-45e4-9af7-c20b3a7ac5dc",
   "metadata": {},
   "outputs": [],
   "source": [
    "#data not balanced let's check null to balance\n",
    "rating.isnull().sum()"
   ]
  },
  {
   "cell_type": "code",
   "execution_count": null,
   "id": "977201f2-1185-4e97-ad74-82125f62f002",
   "metadata": {},
   "outputs": [],
   "source": [
    "rating = rating.dropna()"
   ]
  },
  {
   "cell_type": "code",
   "execution_count": null,
   "id": "a2ce0ab2-973a-4c6f-9df6-7c6a76ee3d5d",
   "metadata": {},
   "outputs": [],
   "source": [
    "rating.isnull().sum()"
   ]
  },
  {
   "cell_type": "code",
   "execution_count": null,
   "id": "a65321e7-ee79-46a4-bfb2-2f39da5e87ac",
   "metadata": {},
   "outputs": [],
   "source": [
    "print(\"Recommended\", round(rating.is_recommended.value_counts()[1]/len(rating) *100 ,2), \"%\")\n",
    "print(\"Not Recommended\", round(rating.is_recommended.value_counts()[0]/len(rating) *100 ,2), \"%\")"
   ]
  },
  {
   "cell_type": "code",
   "execution_count": null,
   "id": "721e5711-2390-4bd6-aa42-6a8148267709",
   "metadata": {},
   "outputs": [],
   "source": [
    "#that looks correct now"
   ]
  },
  {
   "cell_type": "code",
   "execution_count": null,
   "id": "e92388ff-c282-461a-8858-892165301157",
   "metadata": {},
   "outputs": [],
   "source": [
    "#now I am going to try and use nltk\n",
    "import nltk\n",
    "import re\n",
    "from bs4 import BeautifulSoup\n",
    "from nltk.corpus import stopwords\n",
    "from nltk.tokenize import ToktokTokenizer\n",
    "from nltk.stem import PorterStemmer\n",
    "\n",
    "nltk.download('stopwords')\n",
    "from nltk.corpus import stopwords\n",
    "stop_words = set(stopwords.words('english'))"
   ]
  },
  {
   "cell_type": "code",
   "execution_count": null,
   "id": "1d670e1f-559b-4a36-8e0b-a602896e1bca",
   "metadata": {},
   "outputs": [],
   "source": [
    "def preprocess_text(text, remove_digits=True):\n",
    "    # Removing HTML tags\n",
    "    text = BeautifulSoup(text, \"html.parser\").get_text()\n",
    "     \n",
    "    # Lowercasing\n",
    "    text = text.lower()\n",
    "    \n",
    "    # Stemming\n",
    "    ps = PorterStemmer()\n",
    "    text = ' '.join([ps.stem(word) for word in review_text.split()])\n",
    "    \n",
    "    # Removing stopwords\n",
    "    stopword_list = set(stopwords.words('english'))\n",
    "    tokenizer = ToktokTokenizer()\n",
    "    tokens = tokenizer.tokenize(text)\n",
    "    filtered_tokens = [token for token in tokens if token not in stopword_list]\n",
    "    filtered_text = ' '.join(filtered_tokens)\n",
    "    \n",
    "    return filtered_text\n",
    "\n"
   ]
  },
  {
   "cell_type": "code",
   "execution_count": null,
   "id": "373e116f-2a6f-4b2b-84ab-79e2128cb5c4",
   "metadata": {},
   "outputs": [],
   "source": [
    "def create_sentiment_label(rating):\n",
    "    if rating <= 2:\n",
    "        return 0\n",
    "    elif rating == 3:\n",
    "        return 1\n",
    "    else:\n",
    "        return 2\n"
   ]
  },
  {
   "cell_type": "code",
   "execution_count": null,
   "id": "b09c0494-8c2e-40cf-a8e0-e9c761af1682",
   "metadata": {},
   "outputs": [],
   "source": [
    "rating = rating[['rating', 'review_text']]\n",
    "rating['sentiment'] = rating['rating'].apply(create_sentiment_label)"
   ]
  },
  {
   "cell_type": "code",
   "execution_count": 1,
   "id": "003cc089-b97d-4a61-ab73-1b3d63b72cf3",
   "metadata": {},
   "outputs": [
    {
     "ename": "NameError",
     "evalue": "name 'review' is not defined",
     "output_type": "error",
     "traceback": [
      "\u001b[0;31m---------------------------------------------------------------------------\u001b[0m",
      "\u001b[0;31mNameError\u001b[0m                                 Traceback (most recent call last)",
      "Cell \u001b[0;32mIn[1], line 4\u001b[0m\n\u001b[1;32m      1\u001b[0m \u001b[38;5;28;01mimport\u001b[39;00m \u001b[38;5;21;01mmatplotlib\u001b[39;00m\u001b[38;5;21;01m.\u001b[39;00m\u001b[38;5;21;01mpyplot\u001b[39;00m \u001b[38;5;28;01mas\u001b[39;00m \u001b[38;5;21;01mplt\u001b[39;00m\n\u001b[1;32m      2\u001b[0m \u001b[38;5;28;01mimport\u001b[39;00m \u001b[38;5;21;01mseaborn\u001b[39;00m \u001b[38;5;28;01mas\u001b[39;00m \u001b[38;5;21;01msns\u001b[39;00m\n\u001b[0;32m----> 4\u001b[0m class_counts \u001b[38;5;241m=\u001b[39m review[\u001b[38;5;124m'\u001b[39m\u001b[38;5;124msentiment\u001b[39m\u001b[38;5;124m'\u001b[39m]\u001b[38;5;241m.\u001b[39mvalue_counts()\n\u001b[1;32m      5\u001b[0m \u001b[38;5;28mprint\u001b[39m(\u001b[38;5;124m\"\u001b[39m\u001b[38;5;124mClass distribution:\u001b[39m\u001b[38;5;130;01m\\n\u001b[39;00m\u001b[38;5;124m\"\u001b[39m, class_counts)\n\u001b[1;32m      7\u001b[0m plt\u001b[38;5;241m.\u001b[39mfigure(figsize\u001b[38;5;241m=\u001b[39m(\u001b[38;5;241m10\u001b[39m, \u001b[38;5;241m5\u001b[39m))\n",
      "\u001b[0;31mNameError\u001b[0m: name 'review' is not defined"
     ]
    }
   ],
   "source": [
    "import matplotlib.pyplot as plt\n",
    "import seaborn as sns\n",
    "\n",
    "class_counts = review['sentiment'].value_counts()\n",
    "print(\"Class distribution:\\n\", class_counts)\n",
    "\n",
    "plt.figure(figsize=(10, 5))\n",
    "sns.barplot(x=class_counts.index, y=class_counts.values)\n",
    "plt.title(\"Sentiment Class Distribution\")\n",
    "plt.xlabel(\"Sentiment\")\n",
    "plt.ylabel(\"Number of Samples\")\n",
    "plt.show()"
   ]
  },
  {
   "cell_type": "code",
   "execution_count": null,
   "id": "1b4639fa-88aa-4fff-a0bb-626be05462f4",
   "metadata": {},
   "outputs": [],
   "source": []
  }
 ],
 "metadata": {
  "kernelspec": {
   "display_name": "Python 3 (ipykernel)",
   "language": "python",
   "name": "python3"
  },
  "language_info": {
   "codemirror_mode": {
    "name": "ipython",
    "version": 3
   },
   "file_extension": ".py",
   "mimetype": "text/x-python",
   "name": "python",
   "nbconvert_exporter": "python",
   "pygments_lexer": "ipython3",
   "version": "3.12.4"
  }
 },
 "nbformat": 4,
 "nbformat_minor": 5
}
